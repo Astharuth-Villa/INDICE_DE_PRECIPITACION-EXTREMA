{
  "nbformat": 4,
  "nbformat_minor": 0,
  "metadata": {
    "colab": {
      "provenance": [],
      "authorship_tag": "ABX9TyOILQWMaxjRJpjOeBXcKLPQ",
      "include_colab_link": true
    },
    "kernelspec": {
      "name": "python3",
      "display_name": "Python 3"
    },
    "language_info": {
      "name": "python"
    }
  },
  "cells": [
    {
      "cell_type": "markdown",
      "metadata": {
        "id": "view-in-github",
        "colab_type": "text"
      },
      "source": [
        "<a href=\"https://colab.research.google.com/github/Astharuth-Villa/INDICE_DE_PRECIPITACION-EXTREMA/blob/main/IOA.ipynb\" target=\"_parent\"><img src=\"https://colab.research.google.com/assets/colab-badge.svg\" alt=\"Open In Colab\"/></a>"
      ]
    },
    {
      "cell_type": "code",
      "source": [
        "from google.colab import drive\n",
        "drive.mount('/content/drive/')"
      ],
      "metadata": {
        "colab": {
          "base_uri": "https://localhost:8080/"
        },
        "id": "kBx3wS9LSob3",
        "outputId": "80745fdc-ca6c-425c-fd45-f567a29b4440"
      },
      "execution_count": 2,
      "outputs": [
        {
          "output_type": "stream",
          "name": "stdout",
          "text": [
            "Mounted at /content/drive/\n"
          ]
        }
      ]
    },
    {
      "cell_type": "code",
      "source": [
        "%%capture\n",
        "!pip install netcdf4\n",
        "!pip install geopandas\n",
        "!pip install rioxarray\n",
        "!pip install xclim\n",
        "!pip install rasterio"
      ],
      "metadata": {
        "id": "__Bn56kXStal"
      },
      "execution_count": 3,
      "outputs": []
    },
    {
      "cell_type": "code",
      "source": [
        "import xarray as xr\n",
        "import pandas as pd\n",
        "import numpy as np\n",
        "import scipy.stats as stats\n",
        "import matplotlib.pyplot as plt\n",
        "from geopandas import read_file as gpd_read_file\n",
        "import pylab as pl\n",
        "import seaborn as sns\n",
        "import zipfile\n",
        "import geopandas as gpd\n",
        "from mpl_toolkits.axes_grid1.inset_locator import inset_axes"
      ],
      "metadata": {
        "id": "4x2wTjA1Sv07"
      },
      "execution_count": 4,
      "outputs": []
    },
    {
      "cell_type": "code",
      "execution_count": 5,
      "metadata": {
        "colab": {
          "base_uri": "https://localhost:8080/"
        },
        "id": "-pwT0rcIRTPd",
        "outputId": "c1108063-b92c-4a1f-b979-0ba65a7ac5de"
      },
      "outputs": [
        {
          "output_type": "execute_result",
          "data": {
            "text/plain": [
              "0\n",
              "1981    0.918333\n",
              "1982    0.114167\n",
              "1983    1.648333\n",
              "1984    0.837500\n",
              "1985    0.449167\n",
              "1986    1.239167\n",
              "1987    1.820833\n",
              "1988    0.531667\n",
              "1989   -0.179167\n",
              "1990   -0.355833\n",
              "1991   -0.419167\n",
              "1992    0.928333\n",
              "1993    1.416667\n",
              "1994   -0.151667\n",
              "1995    0.642500\n",
              "1996    0.640833\n",
              "1997    1.460833\n",
              "1998    0.245833\n",
              "1999   -1.063333\n",
              "2000   -0.590000\n",
              "2001   -0.562500\n",
              "2002    0.220833\n",
              "2003    0.969167\n",
              "2004    0.345000\n",
              "2005    0.375000\n",
              "2006    0.190833\n",
              "2007   -0.195833\n",
              "2008   -1.292500\n",
              "2009   -0.612500\n",
              "2010   -0.312500\n",
              "2011   -1.230833\n",
              "2012   -1.100000\n",
              "2013   -0.517500\n",
              "2014    1.130833\n",
              "2015    1.634167\n",
              "2016    1.542500\n",
              "dtype: float64"
            ]
          },
          "metadata": {},
          "execution_count": 5
        }
      ],
      "source": [
        "#THE PACIFIC DECADAL OSCILLATION INDEX (PDOi)\n",
        "PDO = pd.read_csv('https://psl.noaa.gov/data/correlation/pdo.data', sep='\\s+', skiprows=1, skipfooter = 14, engine='python', header=None, na_values=-9.90, index_col=0)\n",
        "PDO_year=PDO.mean(1)\n",
        "PDO_filtro = PDO_year.loc[\"1981\":\"2016\"]\n",
        "PDO_filtro"
      ]
    },
    {
      "cell_type": "code",
      "source": [
        "#THE EASTERN INDEX (index E)\n",
        "tabla = pd.read_csv(\"/content/drive/MyDrive/PROGRAMACIÓN_2/DATA/ecindex_ersstv5_CSV.csv\")\n",
        "tabla['month']=tabla['month'].astype(str)\n",
        "tabla['year']=tabla['year'].astype(str)\n",
        "tabla[\"FECHA\"]=tabla.year.str.cat(tabla.month,sep=\"-\")\n",
        "tabla[\"FECHA\"]=pd.to_datetime(tabla[\"FECHA\"])\n",
        "tabla=tabla.set_index(\"FECHA\")\n",
        "tabla=tabla.drop(columns=[\"year\",\"month\"],axis=1)"
      ],
      "metadata": {
        "id": "bl5_iLkPRwB7"
      },
      "execution_count": 6,
      "outputs": []
    },
    {
      "cell_type": "code",
      "source": [
        "tabla_E = tabla['E_index'].resample(\"Y\").sum()\n",
        "tabla_E=tabla_E.loc[\"1981-12-31\":\"2016-12-31\"]\n",
        "tabla_E"
      ],
      "metadata": {
        "colab": {
          "base_uri": "https://localhost:8080/"
        },
        "id": "CoC7YRF2R0nZ",
        "outputId": "0e6866b0-dd90-4c60-b138-afb77ef99feb"
      },
      "execution_count": 7,
      "outputs": [
        {
          "output_type": "execute_result",
          "data": {
            "text/plain": [
              "FECHA\n",
              "1981-12-31    -5.52801\n",
              "1982-12-31    11.29164\n",
              "1983-12-31    27.49673\n",
              "1984-12-31    -1.83103\n",
              "1985-12-31    -9.69659\n",
              "1986-12-31    -2.52522\n",
              "1987-12-31    13.88367\n",
              "1988-12-31   -10.33723\n",
              "1989-12-31    -2.35616\n",
              "1990-12-31    -5.90980\n",
              "1991-12-31     0.27125\n",
              "1992-12-31     4.32776\n",
              "1993-12-31     5.82076\n",
              "1994-12-31    -5.06080\n",
              "1995-12-31    -9.20491\n",
              "1996-12-31    -9.62179\n",
              "1997-12-31    24.19572\n",
              "1998-12-31    22.89806\n",
              "1999-12-31    -1.28809\n",
              "2000-12-31    -0.22549\n",
              "2001-12-31    -4.47818\n",
              "2002-12-31     0.90465\n",
              "2003-12-31    -4.36658\n",
              "2004-12-31    -4.49157\n",
              "2005-12-31    -7.88823\n",
              "2006-12-31     2.20899\n",
              "2007-12-31   -11.14157\n",
              "2008-12-31     8.14758\n",
              "2009-12-31     3.18636\n",
              "2010-12-31    -4.48054\n",
              "2011-12-31    -0.95147\n",
              "2012-12-31     4.84952\n",
              "2013-12-31    -8.80650\n",
              "2014-12-31     0.79893\n",
              "2015-12-31    13.31732\n",
              "2016-12-31     3.56155\n",
              "Freq: A-DEC, Name: E_index, dtype: float64"
            ]
          },
          "metadata": {},
          "execution_count": 7
        }
      ]
    },
    {
      "cell_type": "code",
      "source": [
        "#THE CENTRAL INDEX (index C)\n",
        "tabla_C = tabla['C_index'].resample(\"Y\").sum()\n",
        "tabla_C=tabla_C.loc[\"1981-12-31\":\"2016-12-31\"]\n",
        "tabla_C"
      ],
      "metadata": {
        "colab": {
          "base_uri": "https://localhost:8080/"
        },
        "id": "pYa8pKwDR7ls",
        "outputId": "f10ff051-7655-46b0-b7ba-a60cd9556b05"
      },
      "execution_count": 8,
      "outputs": [
        {
          "output_type": "execute_result",
          "data": {
            "text/plain": [
              "FECHA\n",
              "1981-12-31    -5.91708\n",
              "1982-12-31     4.68182\n",
              "1983-12-31   -11.14535\n",
              "1984-12-31   -11.79383\n",
              "1985-12-31    -9.06367\n",
              "1986-12-31     1.02940\n",
              "1987-12-31     7.22661\n",
              "1988-12-31    -9.10022\n",
              "1989-12-31   -13.79241\n",
              "1990-12-31     5.84995\n",
              "1991-12-31    10.01285\n",
              "1992-12-31     6.36460\n",
              "1993-12-31     2.35216\n",
              "1994-12-31     9.09695\n",
              "1995-12-31     3.05537\n",
              "1996-12-31    -4.39944\n",
              "1997-12-31     2.19741\n",
              "1998-12-31   -15.13197\n",
              "1999-12-31   -21.92176\n",
              "2000-12-31   -17.17976\n",
              "2001-12-31    -3.81540\n",
              "2002-12-31     8.30668\n",
              "2003-12-31     7.19082\n",
              "2004-12-31     9.01808\n",
              "2005-12-31     5.04171\n",
              "2006-12-31     0.62358\n",
              "2007-12-31    -2.69283\n",
              "2008-12-31   -19.54408\n",
              "2009-12-31     2.88932\n",
              "2010-12-31    -6.41499\n",
              "2011-12-31   -15.95063\n",
              "2012-12-31    -6.32056\n",
              "2013-12-31    -0.51171\n",
              "2014-12-31     4.36319\n",
              "2015-12-31    16.22703\n",
              "2016-12-31     5.58685\n",
              "Freq: A-DEC, Name: C_index, dtype: float64"
            ]
          },
          "metadata": {},
          "execution_count": 8
        }
      ]
    },
    {
      "cell_type": "code",
      "source": [
        "#THE TROPICAL NORTH ATLANTIC INDEX (TNAi)\n",
        "TNA = pd.read_csv('https://psl.noaa.gov/data/correlation/tna.data', sep='\\s+', skiprows=1, skipfooter = 6, engine='python', header=None, na_values=-99.99, index_col=0)\n",
        "TNA_year=TNA.mean(1)\n",
        "TNA_filtro = TNA_year.loc[\"1981\":\"2016\"]\n",
        "TNA_filtro"
      ],
      "metadata": {
        "colab": {
          "base_uri": "https://localhost:8080/"
        },
        "id": "6eRAfdXBSDs9",
        "outputId": "321c3cf7-7cf1-4bc7-f8fa-28b8756cbd34"
      },
      "execution_count": 9,
      "outputs": [
        {
          "output_type": "execute_result",
          "data": {
            "text/plain": [
              "0\n",
              "1981    0.227500\n",
              "1982   -0.203333\n",
              "1983    0.101667\n",
              "1984   -0.282500\n",
              "1985   -0.319167\n",
              "1986   -0.489167\n",
              "1987    0.318333\n",
              "1988    0.092500\n",
              "1989   -0.190000\n",
              "1990    0.135000\n",
              "1991   -0.247500\n",
              "1992   -0.146667\n",
              "1993   -0.170833\n",
              "1994   -0.362500\n",
              "1995    0.305833\n",
              "1996    0.225000\n",
              "1997    0.367500\n",
              "1998    0.561667\n",
              "1999    0.095000\n",
              "2000   -0.048333\n",
              "2001    0.260833\n",
              "2002    0.173333\n",
              "2003    0.330833\n",
              "2004    0.481667\n",
              "2005    0.671667\n",
              "2006    0.470000\n",
              "2007    0.241667\n",
              "2008    0.315000\n",
              "2009    0.146667\n",
              "2010    1.013333\n",
              "2011    0.450000\n",
              "2012    0.310833\n",
              "2013    0.482500\n",
              "2014    0.125833\n",
              "2015    0.257500\n",
              "2016    0.434167\n",
              "dtype: float64"
            ]
          },
          "metadata": {},
          "execution_count": 9
        }
      ]
    },
    {
      "cell_type": "code",
      "source": [
        "#THE TROPICAL SOUTH ATLANTIC INDEX (TSAi)\n",
        "TSA = pd.read_csv('https://psl.noaa.gov/data/correlation/tsa.data', sep='\\s+', skiprows=1, skipfooter = 4, engine='python', header=None, na_values=-99.99, index_col=0)\n",
        "TSA_year=TSA.mean(1)\n",
        "TSA_filtro = TSA_year.loc[\"1981\":\"2016\"]\n",
        "TSA_filtro"
      ],
      "metadata": {
        "colab": {
          "base_uri": "https://localhost:8080/"
        },
        "id": "hUjfYi4qSIPJ",
        "outputId": "3f9d8345-19c7-409b-c1b3-6e368095e914"
      },
      "execution_count": 10,
      "outputs": [
        {
          "output_type": "execute_result",
          "data": {
            "text/plain": [
              "0\n",
              "1981   -0.143333\n",
              "1982   -0.285833\n",
              "1983   -0.047500\n",
              "1984    0.554167\n",
              "1985    0.216667\n",
              "1986    0.224167\n",
              "1987    0.307500\n",
              "1988    0.504167\n",
              "1989    0.229167\n",
              "1990    0.055000\n",
              "1991    0.011667\n",
              "1992   -0.537500\n",
              "1993    0.183333\n",
              "1994    0.036667\n",
              "1995    0.325000\n",
              "1996    0.390833\n",
              "1997   -0.031667\n",
              "1998    0.531667\n",
              "1999    0.365000\n",
              "2000    0.199167\n",
              "2001    0.216667\n",
              "2002    0.193333\n",
              "2003    0.472500\n",
              "2004    0.133333\n",
              "2005    0.099167\n",
              "2006    0.264167\n",
              "2007    0.208333\n",
              "2008    0.479167\n",
              "2009    0.459167\n",
              "2010    0.588333\n",
              "2011    0.267500\n",
              "2012   -0.090833\n",
              "2013    0.216667\n",
              "2014    0.176667\n",
              "2015    0.295833\n",
              "2016    0.520000\n",
              "dtype: float64"
            ]
          },
          "metadata": {},
          "execution_count": 10
        }
      ]
    },
    {
      "cell_type": "code",
      "source": [
        "#TN-TSi\n",
        "TNS = TNA_filtro-TSA_filtro\n",
        "TNS"
      ],
      "metadata": {
        "colab": {
          "base_uri": "https://localhost:8080/"
        },
        "id": "w5_7oAZlSPVs",
        "outputId": "d9478c61-7042-4442-ac7a-dd7da892dbe8"
      },
      "execution_count": 11,
      "outputs": [
        {
          "output_type": "execute_result",
          "data": {
            "text/plain": [
              "0\n",
              "1981    0.370833\n",
              "1982    0.082500\n",
              "1983    0.149167\n",
              "1984   -0.836667\n",
              "1985   -0.535833\n",
              "1986   -0.713333\n",
              "1987    0.010833\n",
              "1988   -0.411667\n",
              "1989   -0.419167\n",
              "1990    0.080000\n",
              "1991   -0.259167\n",
              "1992    0.390833\n",
              "1993   -0.354167\n",
              "1994   -0.399167\n",
              "1995   -0.019167\n",
              "1996   -0.165833\n",
              "1997    0.399167\n",
              "1998    0.030000\n",
              "1999   -0.270000\n",
              "2000   -0.247500\n",
              "2001    0.044167\n",
              "2002   -0.020000\n",
              "2003   -0.141667\n",
              "2004    0.348333\n",
              "2005    0.572500\n",
              "2006    0.205833\n",
              "2007    0.033333\n",
              "2008   -0.164167\n",
              "2009   -0.312500\n",
              "2010    0.425000\n",
              "2011    0.182500\n",
              "2012    0.401667\n",
              "2013    0.265833\n",
              "2014   -0.050833\n",
              "2015   -0.038333\n",
              "2016   -0.085833\n",
              "dtype: float64"
            ]
          },
          "metadata": {},
          "execution_count": 11
        }
      ]
    }
  ]
}